{
 "cells": [
  {
   "cell_type": "markdown",
   "metadata": {},
   "source": [
    "# Data analysis"
   ]
  },
  {
   "cell_type": "markdown",
   "metadata": {},
   "source": [
    "### Read data"
   ]
  },
  {
   "cell_type": "code",
   "execution_count": 1,
   "metadata": {},
   "outputs": [],
   "source": [
    "from pandas import read_csv\n",
    "data = read_csv('../../data/dt.consecutive.csv', nrows=100000)"
   ]
  },
  {
   "cell_type": "markdown",
   "metadata": {},
   "source": [
    "### Convert time data to python datetime object"
   ]
  },
  {
   "cell_type": "code",
   "execution_count": 2,
   "metadata": {},
   "outputs": [],
   "source": [
    "from datetime import datetime\n",
    "\n",
    "def format(time):\n",
    "    return datetime.strptime(time, '%Y-%m-%d %H:%M:%S')\n",
    "\n",
    "data['time'] = [format(time) for time in data['time']]\n",
    "data = data[data['time'] > format('2019-12-17 00:00:00')][data['time'] < format('2020-01-26 00:00:00')]"
   ]
  },
  {
   "cell_type": "markdown",
   "metadata": {},
   "source": [
    "### Number of unique MAC addresses each day"
   ]
  },
  {
   "cell_type": "code",
   "execution_count": null,
   "metadata": {},
   "outputs": [],
   "source": [
    "daily = data.groupby(data[\"time\"].dt.floor('d'))['MAC'].nunique().reset_index(name='All day')"
   ]
  },
  {
   "cell_type": "markdown",
   "metadata": {},
   "source": [
    "### Number of unique MAC addresses each day in working hours"
   ]
  },
  {
   "cell_type": "code",
   "execution_count": null,
   "metadata": {},
   "outputs": [],
   "source": [
    "from pandas import merge\n",
    "\n",
    "work = data[data['time'].dt.hour > 7][data['time'].dt.hour < 20]\n",
    "daily = merge(daily, work.groupby(work[\"time\"].dt.floor('d'))['MAC'].nunique().reset_index(name='Working hours'), how='outer', on='time')\n",
    "daily.fillna(0, inplace=True)\n",
    "del work"
   ]
  },
  {
   "cell_type": "markdown",
   "metadata": {},
   "source": [
    "### Find weekend indexes"
   ]
  },
  {
   "cell_type": "code",
   "execution_count": null,
   "metadata": {},
   "outputs": [],
   "source": [
    "time = daily['time']\n",
    "weekends = [day for day in range(len(time)) if time[day].weekday() > 4]"
   ]
  },
  {
   "cell_type": "markdown",
   "metadata": {},
   "source": [
    "### Plot number of unique MAC addresses each day"
   ]
  },
  {
   "cell_type": "code",
   "execution_count": null,
   "metadata": {},
   "outputs": [],
   "source": [
    "import matplotlib.pyplot as plt\n",
    "from matplotlib import dates\n",
    "\n",
    "fig, ax = plt.subplots()\n",
    "ax.plot_date(time, daily.drop('time', axis=1), '-')\n",
    "# ax.axvspan(*dates.datestr2num(['12/09/2019', '12/17/2019']), color='red', alpha=0.5)\n",
    "# ax.axvspan(*dates.datestr2num(['12/17/2019', '01/26/2020']), color='green', alpha=0.5)\n",
    "# for weekend in weekends:\n",
    "#     ax.axvspan(time[weekend], time[weekend + 1], color='yellow', alpha=0.5)\n",
    "fig.autofmt_xdate()\n",
    "plt.savefig('daily2.jpg', dpi=1200)\n",
    "plt.show()"
   ]
  },
  {
   "cell_type": "markdown",
   "metadata": {},
   "source": [
    "### Number of unique MAC addresses each hour"
   ]
  },
  {
   "cell_type": "markdown",
   "metadata": {},
   "source": [
    "hourly = data.groupby(data[\"time\"].dt.floor('H'))['MAC'].nunique().reset_index()\n",
    "fig, ax = plt.subplots()\n",
    "ax.plot_date(hourly['time'], hourly.drop('time', axis=1), '-')\n",
    "ax.axvspan(*dates.datestr2num(['12/09/2019', '12/17/2019']), color='red', alpha=0.5)\n",
    "ax.axvspan(*dates.datestr2num(['12/17/2019', '01/26/2020']), color='green', alpha=0.5)\n",
    "for weekend in weekends:\n",
    "    ax.axvspan(time[weekend], time[weekend + 1], color='yellow', alpha=0.5)\n",
    "fig.autofmt_xdate()\n",
    "plt.savefig('hourly.jpg', dpi=1200)\n",
    "plt.show()"
   ]
  },
  {
   "cell_type": "markdown",
   "metadata": {},
   "source": [
    "### Weeks for each month"
   ]
  },
  {
   "cell_type": "markdown",
   "metadata": {},
   "source": [
    "for month in data['time'].dt.month.unique():\n",
    "    graph = data[data['time'].dt.month == month].groupby([data[\"time\"].dt.week, data['time'].dt.day])['MAC'].nunique().unstack(level=0).add_prefix('Week ').plot(kind='line', title='Month_' + str(month))\n",
    "    graph.legend(bbox_to_anchor=(1, 1))\n",
    "    graph.set_xlabel('Day')\n",
    "    graph.axvspan(5, 7, color='red', alpha=0.5)\n",
    "    plt.savefig('Month_' + str(month), dpi=1200)"
   ]
  },
  {
   "cell_type": "markdown",
   "metadata": {},
   "source": [
    "### Weekdays for each month"
   ]
  },
  {
   "cell_type": "markdown",
   "metadata": {},
   "source": [
    "for month in data['time'].dt.month.unique():\n",
    "    weekdays = data[data['time'].dt.month == month].groupby([data['time'].dt.week, data[\"time\"].dt.weekday, data['time'].dt.hour])['MAC'].nunique().unstack(level=1)\n",
    "    for weekday in weekdays:\n",
    "        graph = weekdays[weekday].unstack(level=0).plot(kind='line', title='Month_' + str(month) + '_weekday_' + str(weekday))\n",
    "        graph.legend(bbox_to_anchor=(1, 1), title='Week')\n",
    "        graph.set_xlabel('Hour')\n",
    "        plt.savefig('Month_' + str(month) + '_weekday_' + str(weekday), dpi=1200)"
   ]
  },
  {
   "cell_type": "code",
   "execution_count": null,
   "metadata": {},
   "outputs": [],
   "source": []
  }
 ],
 "metadata": {
  "language_info": {
   "codemirror_mode": {
    "name": "ipython",
    "version": 3
   },
   "file_extension": ".py",
   "mimetype": "text/x-python",
   "name": "python",
   "nbconvert_exporter": "python",
   "pygments_lexer": "ipython3",
   "version": "3.7.3-final"
  },
  "orig_nbformat": 2,
  "kernelspec": {
   "name": "python3",
   "display_name": "Python 3"
  }
 },
 "nbformat": 4,
 "nbformat_minor": 2
}